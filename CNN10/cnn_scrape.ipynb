{
 "cells": [
  {
   "cell_type": "markdown",
   "metadata": {},
   "source": [
    "### CNN10のTranscriptからスクレイピングでページ上の全件の情報を抽出する"
   ]
  },
  {
   "cell_type": "code",
   "execution_count": null,
   "metadata": {
    "collapsed": true
   },
   "outputs": [],
   "source": [
    "import urllib.request\n",
    "from bs4 import BeautifulSoup\n",
    "import datetime\n",
    "import pandas as pd"
   ]
  },
  {
   "cell_type": "code",
   "execution_count": null,
   "metadata": {
    "collapsed": true
   },
   "outputs": [],
   "source": [
    "# transcriptの一覧ページのURL\n",
    "base_url = \"http://transcripts.cnn.com/\"\n",
    "aired_list_url = base_url + \"TRANSCRIPTS/sn.html\""
   ]
  },
  {
   "cell_type": "code",
   "execution_count": null,
   "metadata": {
    "collapsed": true
   },
   "outputs": [],
   "source": [
    "res = urllib.request.urlopen(aired_list_url)\n",
    "soup = BeautifulSoup(res, \"lxml\")"
   ]
  },
  {
   "cell_type": "code",
   "execution_count": null,
   "metadata": {
    "collapsed": true
   },
   "outputs": [],
   "source": [
    "link_soup = soup.find_all('div', class_=\"cnnSectBulletItems\") # 各放送のTranscriptのみに範囲を絞る"
   ]
  },
  {
   "cell_type": "code",
   "execution_count": null,
   "metadata": {
    "collapsed": true
   },
   "outputs": [],
   "source": [
    "# 取得したい項目のリストを初期化\n",
    "title_list = []\n",
    "content_list = []\n",
    "date_list = []\n",
    "\n",
    "for l in link_soup:\n",
    "    script_url = l.a[\"href\"] # 各放送日のTranscriptのURLを取得\n",
    "    title = l.a.text # 各放送のタイトルを取得\n",
    "    # 取得したURLをパースして放送年月日を文字列で抽出\n",
    "    # '/TRANSCRIPTS/1912/13/sn.01.html'のような形式からパース\n",
    "    # 2100年移行には使えなくなるよくないコードだが現時点では許容する\n",
    "    date = \"20\" + l.a[\"href\"].split(\"/\")[2] + l.a[\"href\"].split(\"/\")[3] \n",
    "    # datetimeを使用してdatetime型に変換\n",
    "    conv_date = datetime.datetime.strptime(date, '%Y%m%d')\n",
    "    base_url = \"http://edition.cnn.com\"\n",
    "    tar_url = base_url + script_url\n",
    "    try:\n",
    "        script_res = urllib.request.urlopen(tar_url)\n",
    "        script_soup = BeautifulSoup(script_res, \"lxml\")\n",
    "        content = script_soup.find_all(\"p\", class_=\"cnnBodyText\")[2].text # うまく本文のみで絞り込めなかった\n",
    "\n",
    "        title_list.append(title)\n",
    "        content_list.append(content)\n",
    "        date_list.append(date)\n",
    "    except : # エラーの際はエラーになったURLを出力して処理は継続 # 404エラーの場合が多い\n",
    "        print(\"Error:{}\".format(tar_url))"
   ]
  },
  {
   "cell_type": "code",
   "execution_count": null,
   "metadata": {
    "collapsed": true
   },
   "outputs": [],
   "source": [
    "out_df = pd.DataFrame({\"title\":title_list, \"content\":content_list, \"date\":date_list})\n",
    "out_df = out_df[[\"title\", \"content\", \"date\"]]"
   ]
  },
  {
   "cell_type": "code",
   "execution_count": null,
   "metadata": {
    "collapsed": true
   },
   "outputs": [],
   "source": [
    "out_df.to_csv(\"./out/cnn10_scripts_20200101.csv\", index=False)"
   ]
  },
  {
   "cell_type": "code",
   "execution_count": null,
   "metadata": {
    "collapsed": true
   },
   "outputs": [],
   "source": []
  }
 ],
 "metadata": {
  "kernelspec": {
   "display_name": "Python 3",
   "language": "python",
   "name": "python3"
  },
  "language_info": {
   "codemirror_mode": {
    "name": "ipython",
    "version": 3
   },
   "file_extension": ".py",
   "mimetype": "text/x-python",
   "name": "python",
   "nbconvert_exporter": "python",
   "pygments_lexer": "ipython3",
   "version": "3.6.1"
  }
 },
 "nbformat": 4,
 "nbformat_minor": 2
}
